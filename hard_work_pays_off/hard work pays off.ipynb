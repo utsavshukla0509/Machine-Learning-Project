{
 "cells": [
  {
   "cell_type": "code",
   "execution_count": 20,
   "metadata": {},
   "outputs": [],
   "source": [
    "import numpy as np\n",
    "import pandas as pd\n",
    "import matplotlib.pyplot as plt"
   ]
  },
  {
   "cell_type": "code",
   "execution_count": 21,
   "metadata": {},
   "outputs": [],
   "source": [
    "X=pd.read_csv('TrainingData/Linear_X_Train.csv').values\n",
    "Y=pd.read_csv('TrainingData/Linear_Y_Train.csv').values"
   ]
  },
  {
   "cell_type": "code",
   "execution_count": 22,
   "metadata": {},
   "outputs": [
    {
     "name": "stdout",
     "output_type": "stream",
     "text": [
      "(3750, 1)\n",
      "(3750, 1)\n"
     ]
    }
   ],
   "source": [
    "print(X.shape)\n",
    "print(Y.shape)"
   ]
  },
  {
   "cell_type": "code",
   "execution_count": 23,
   "metadata": {},
   "outputs": [],
   "source": [
    "X=(X-X.mean())/X.std()"
   ]
  },
  {
   "cell_type": "code",
   "execution_count": 24,
   "metadata": {},
   "outputs": [
    {
     "data": {
      "image/png": "[encoded data removed]",
      "text/plain": [
       "<Figure size 432x288 with 1 Axes>"
      ]
     },
     "metadata": {
      "needs_background": "light"
     },
     "output_type": "display_data"
    }
   ],
   "source": [
    "plt.scatter(X,Y)\n",
    "plt.show()"
   ]
  },
  {
   "cell_type": "code",
   "execution_count": 25,
   "metadata": {},
   "outputs": [],
   "source": [
    "def y_hat(theta,x):\n",
    "    return theta[0] + theta[1]*x\n",
    "\n",
    "def error(X,Y,theta):\n",
    "    Y_ = y_hat(theta,X)\n",
    "    e =  np.sum((Y_ - Y)**2)\n",
    "    m = X.shape[0]\n",
    "    return e/m\n",
    "\n",
    "def getGrad(X,Y,theta):\n",
    "    grad = np.zeros((2,))\n",
    "    Y_ = y_hat(theta,X)\n",
    "    \n",
    "    grad[0] = 2*np.sum(Y_ - Y)\n",
    "    grad[1] = 2*np.sum( (Y_ - Y)*X)\n",
    "    m = X.shape[0]\n",
    "    return grad/m\n",
    "    \n",
    "\n",
    "def gradDescent(X,Y,lr=0.01):\n",
    "    theta = np.zeros((2,))\n",
    "    \n",
    "    error_list = []\n",
    "    #grad = getGrad(X,Y,theta)\n",
    "    #theta= theta - lr*grad\n",
    "    #e = error(X,Y,theta)\n",
    "    #print(e)\n",
    "    #while(e>=10):\n",
    "    for i in range(3000):\n",
    "        grad = getGrad(X,Y,theta)\n",
    "        theta= theta - lr*grad\n",
    "        e = error(X,Y,theta)\n",
    "        error_list.append(e)\n",
    "        \n",
    "    return theta,error_list"
   ]
  },
  {
   "cell_type": "code",
   "execution_count": 26,
   "metadata": {},
   "outputs": [],
   "source": [
    "theta,error_list = gradDescent(X,Y)"
   ]
  },
  {
   "cell_type": "code",
   "execution_count": 27,
   "metadata": {},
   "outputs": [
    {
     "data": {
      "image/png": "[encoded data removed]",
      "text/plain": [
       "<Figure size 432x288 with 1 Axes>"
      ]
     },
     "metadata": {
      "needs_background": "light"
     },
     "output_type": "display_data"
    }
   ],
   "source": [
    "plt.plot(error_list)\n",
    "plt.show()"
   ]
  },
  {
   "cell_type": "code",
   "execution_count": 28,
   "metadata": {},
   "outputs": [
    {
     "name": "stdout",
     "output_type": "stream",
     "text": [
      "[ 0.68386897 79.90573694]\n"
     ]
    }
   ],
   "source": [
    "print(theta)"
   ]
  },
  {
   "cell_type": "code",
   "execution_count": 35,
   "metadata": {},
   "outputs": [
    {
     "name": "stdout",
     "output_type": "stream",
     "text": [
      "[[79.90573694]]\n"
     ]
    }
   ],
   "source": [
    " theta=np.dot(np.linalg.pinv(np.dot(X.T,X)),np.dot(X.T,Y))\n",
    " print(theta)"
   ]
  },
  {
   "cell_type": "code",
   "execution_count": 36,
   "metadata": {},
   "outputs": [],
   "source": [
    "x=pd.read_csv('TestCases/Linear_X_Test.csv')\n",
    "x.values\n",
    "y_ = np.dot(x,theta)\n"
   ]
  },
  {
   "cell_type": "code",
   "execution_count": 38,
   "metadata": {},
   "outputs": [
    {
     "name": "stdout",
     "output_type": "stream",
     "text": [
      "[-69.44063567]\n"
     ]
    }
   ],
   "source": [
    "#print(y_.shape)\n",
    "df=pd.DataFrame(y_)\n",
    "print(y_[1])"
   ]
  },
  {
   "cell_type": "code",
   "execution_count": 39,
   "metadata": {},
   "outputs": [],
   "source": [
    "df.to_csv('TestCases/sample_submission_linear.csv',index=False)"
   ]
  },
  {
   "cell_type": "code",
   "execution_count": 113,
   "metadata": {},
   "outputs": [],
   "source": [
    "# import csv\n",
    "# with open('TestCases/sample_submission_linear.csv','w',newline='') as f:\n",
    "#     fwriter = csv.writer(f)\n",
    "#     fwriter.writerow(['y'])\n",
    "#     for i in range(1,Y_.shape[0]):\n",
    "#         fwriter.writerow(Y_[i])"
   ]
  },
  {
   "cell_type": "code",
   "execution_count": null,
   "metadata": {},
   "outputs": [],
   "source": []
  },
  {
   "cell_type": "code",
   "execution_count": null,
   "metadata": {},
   "outputs": [],
   "source": []
  }
 ],
 "metadata": {
  "kernelspec": {
   "display_name": "Python 3",
   "language": "python",
   "name": "python3"
  },
  "language_info": {
   "codemirror_mode": {
    "name": "ipython",
    "version": 3
   },
   "file_extension": ".py",
   "mimetype": "text/x-python",
   "name": "python",
   "nbconvert_exporter": "python",
   "pygments_lexer": "ipython3",
   "version": "3.7.0"
  }
 },
 "nbformat": 4,
 "nbformat_minor": 2
}
