{
 "cells": [
  {
   "cell_type": "code",
   "execution_count": 1,
   "metadata": {},
   "outputs": [
    {
     "name": "stderr",
     "output_type": "stream",
     "text": [
      "Using TensorFlow backend.\n"
     ]
    }
   ],
   "source": [
    "import numpy as np\n",
    "import os \n",
    "from pathlib import Path\n",
    "from keras.preprocessing import image\n",
    "import matplotlib.pyplot as plt\n",
    "import pandas as pd"
   ]
  },
  {
   "cell_type": "code",
   "execution_count": 2,
   "metadata": {},
   "outputs": [],
   "source": [
    "y=pd.read_csv(\"./Train/train.csv\").values"
   ]
  },
  {
   "cell_type": "code",
   "execution_count": 3,
   "metadata": {},
   "outputs": [
    {
     "name": "stdout",
     "output_type": "stream",
     "text": [
      "Pikachu\n"
     ]
    }
   ],
   "source": [
    "#print(y[:5,:])\n",
    "#print(y.shape)\n",
    "print(y[y[:,0]=='296.jpg',1][0])"
   ]
  },
  {
   "cell_type": "code",
   "execution_count": 4,
   "metadata": {},
   "outputs": [
    {
     "name": "stderr",
     "output_type": "stream",
     "text": [
      "/home/utsav/anaconda3/lib/python3.7/site-packages/PIL/Image.py:873: UserWarning: Palette images with Transparency   expressed in bytes should be converted to RGBA images\n",
      "  ' expressed in bytes should be converted ' +\n"
     ]
    }
   ],
   "source": [
    "p = Path(\"../pokemon_on_goa_trip/Train/Images/\")\n",
    "\n",
    "dirs = p.glob(\"*\")\n",
    "labels_dict = {\"Pikachu\":0,\"Bulbasaur\":1,\"Charmander\":2}\n",
    "\n",
    "image_data = []\n",
    "labels = []\n",
    "\n",
    "for folder_dir in dirs:\n",
    "    #print(folder_dir)\n",
    "    label = str(folder_dir).split(\"\\\\\")[-1][-7:]\n",
    "    #print(label)\n",
    "    img = image.load_img(folder_dir,target_size=(32,32))\n",
    "    img_array = image.img_to_array(img)\n",
    "    image_data.append(img_array)\n",
    "    labels.append(labels_dict[y[y[:,0]==label,1][0]])"
   ]
  },
  {
   "cell_type": "code",
   "execution_count": 5,
   "metadata": {},
   "outputs": [
    {
     "name": "stdout",
     "output_type": "stream",
     "text": [
      "304\n",
      "304\n"
     ]
    }
   ],
   "source": [
    "print(len(image_data))\n",
    "print(len(labels))"
   ]
  },
  {
   "cell_type": "code",
   "execution_count": 6,
   "metadata": {},
   "outputs": [
    {
     "name": "stdout",
     "output_type": "stream",
     "text": [
      "[0, 0, 2, 0, 0, 0, 1, 0, 0, 1, 1, 0, 2, 0, 2, 0, 0, 0, 0, 1, 0, 1, 1, 0, 0, 2, 1, 0, 1, 0, 2, 2, 1, 2, 2, 0, 1, 1, 0, 1, 1, 1, 0, 0, 1, 1, 1, 0, 0, 2, 0, 2, 2, 0, 0, 1, 2, 0, 1, 0, 2, 0, 0, 2, 2, 0, 0, 2, 2, 2, 0, 1, 1, 0, 2, 1, 1, 2, 1, 0, 0, 1, 1, 2, 1, 2, 1, 1, 1, 1, 1, 1, 2, 2, 1, 0, 0, 2, 0, 2, 0, 0, 1, 1, 2, 2, 1, 2, 2, 0, 2, 2, 0, 1, 2, 2, 0, 2, 0, 0, 0, 2, 2, 1, 1, 0, 1, 1, 2, 1, 0, 2, 0, 0, 1, 0, 1, 2, 2, 1, 0, 2, 0, 2, 1, 0, 1, 1, 0, 0, 1, 2, 1, 0, 2, 0, 2, 2, 0, 2, 0, 1, 0, 2, 0, 0, 1, 1, 2, 1, 1, 2, 2, 1, 1, 2, 1, 0, 1, 0, 2, 1, 1, 2, 1, 2, 2, 2, 2, 1, 0, 2, 0, 1, 1, 1, 1, 2, 2, 1, 2, 2, 1, 2, 1, 1, 2, 2, 1, 2, 2, 2, 1, 1, 0, 2, 1, 0, 1, 0, 2, 0, 2, 0, 2, 1, 0, 0, 0, 1, 1, 2, 2, 2, 0, 2, 1, 0, 2, 0, 1, 1, 2, 2, 2, 0, 1, 2, 2, 0, 1, 1, 2, 0, 0, 1, 2, 0, 2, 1, 0, 0, 2, 2, 1, 1, 0, 2, 2, 1, 1, 1, 2, 2, 1, 2, 2, 2, 2, 0, 1, 2, 0, 2, 1, 2, 1, 0, 0, 0, 2, 0, 2, 0, 0, 0, 0, 1, 0, 1, 1, 1, 0, 0]\n"
     ]
    }
   ],
   "source": [
    "print(labels)"
   ]
  },
  {
   "cell_type": "code",
   "execution_count": 7,
   "metadata": {},
   "outputs": [
    {
     "name": "stdout",
     "output_type": "stream",
     "text": [
      "(304, 32, 32, 3)\n",
      "(304,)\n"
     ]
    }
   ],
   "source": [
    "image_data = np.array(image_data,dtype='float32')/255.0\n",
    "labels=np.array(labels)\n",
    "print(image_data.shape)\n",
    "print(labels.shape)"
   ]
  },
  {
   "cell_type": "markdown",
   "metadata": {},
   "source": [
    "# for random data"
   ]
  },
  {
   "cell_type": "code",
   "execution_count": 8,
   "metadata": {},
   "outputs": [],
   "source": [
    "import random\n",
    "\n",
    "combined = list(zip(image_data,labels))\n",
    "random.shuffle(combined)\n",
    "\n",
    "#Unzip\n",
    "image_data[:],labels[:] = zip(*combined)"
   ]
  },
  {
   "cell_type": "markdown",
   "metadata": {},
   "source": [
    "# visualize the data"
   ]
  },
  {
   "cell_type": "code",
   "execution_count": 9,
   "metadata": {},
   "outputs": [
    {
     "name": "stdout",
     "output_type": "stream",
     "text": [
      "Bulbasaur\n"
     ]
    },
    {
     "data": {
      "image/png": "[encoded data removed]",
      "text/plain": [
       "<Figure size 432x288 with 1 Axes>"
      ]
     },
     "metadata": {
      "needs_background": "light"
     },
     "output_type": "display_data"
    },
    {
     "name": "stdout",
     "output_type": "stream",
     "text": [
      "Charmander\n"
     ]
    },
    {
     "data": {
      "image/png": "[encoded data removed]",
      "text/plain": [
       "<Figure size 432x288 with 1 Axes>"
      ]
     },
     "metadata": {
      "needs_background": "light"
     },
     "output_type": "display_data"
    },
    {
     "name": "stdout",
     "output_type": "stream",
     "text": [
      "Charmander\n"
     ]
    },
    {
     "data": {
      "image/png": "[encoded data removed]",
      "text/plain": [
       "<Figure size 432x288 with 1 Axes>"
      ]
     },
     "metadata": {
      "needs_background": "light"
     },
     "output_type": "display_data"
    },
    {
     "name": "stdout",
     "output_type": "stream",
     "text": [
      "Charmander\n"
     ]
    },
    {
     "data": {
      "image/png": "[encoded data removed]",
      "text/plain": [
       "<Figure size 432x288 with 1 Axes>"
      ]
     },
     "metadata": {
      "needs_background": "light"
     },
     "output_type": "display_data"
    },
    {
     "name": "stdout",
     "output_type": "stream",
     "text": [
      "Bulbasaur\n"
     ]
    },
    {
     "data": {
      "image/png": "[encoded data removed]",
      "text/plain": [
       "<Figure size 432x288 with 1 Axes>"
      ]
     },
     "metadata": {
      "needs_background": "light"
     },
     "output_type": "display_data"
    },
    {
     "name": "stdout",
     "output_type": "stream",
     "text": [
      "Bulbasaur\n"
     ]
    },
    {
     "data": {
      "image/png": "[encoded data removed]",
      "text/plain": [
       "<Figure size 432x288 with 1 Axes>"
      ]
     },
     "metadata": {
      "needs_background": "light"
     },
     "output_type": "display_data"
    },
    {
     "name": "stdout",
     "output_type": "stream",
     "text": [
      "Pikachu\n"
     ]
    },
    {
     "data": {
      "image/png": "[encoded data removed]",
      "text/plain": [
       "<Figure size 432x288 with 1 Axes>"
      ]
     },
     "metadata": {
      "needs_background": "light"
     },
     "output_type": "display_data"
    },
    {
     "name": "stdout",
     "output_type": "stream",
     "text": [
      "Pikachu\n"
     ]
    },
    {
     "data": {
      "image/png": "[encoded data removed]",
      "text/plain": [
       "<Figure size 432x288 with 1 Axes>"
      ]
     },
     "metadata": {
      "needs_background": "light"
     },
     "output_type": "display_data"
    },
    {
     "name": "stdout",
     "output_type": "stream",
     "text": [
      "Bulbasaur\n"
     ]
    },
    {
     "data": {
      "image/png": "[encoded data removed]",
      "text/plain": [
       "<Figure size 432x288 with 1 Axes>"
      ]
     },
     "metadata": {
      "needs_background": "light"
     },
     "output_type": "display_data"
    },
    {
     "name": "stdout",
     "output_type": "stream",
     "text": [
      "Charmander\n"
     ]
    },
    {
     "data": {
      "image/png": "[encoded data removed]",
      "text/plain": [
       "<Figure size 432x288 with 1 Axes>"
      ]
     },
     "metadata": {
      "needs_background": "light"
     },
     "output_type": "display_data"
    }
   ],
   "source": [
    "def drawImg(img):\n",
    "    plt.imshow(img)\n",
    "    plt.axis(\"off\")\n",
    "    plt.show()    \n",
    "    return \n",
    "for i in range(10):\n",
    "    for key,value in labels_dict.items():\n",
    "        if value == labels[i]:\n",
    "            print(key)\n",
    "    drawImg(image_data[i])"
   ]
  },
  {
   "cell_type": "code",
   "execution_count": null,
   "metadata": {},
   "outputs": [],
   "source": []
  },
  {
   "cell_type": "markdown",
   "metadata": {},
   "source": [
    "# SVM classifier"
   ]
  },
  {
   "cell_type": "code",
   "execution_count": 10,
   "metadata": {},
   "outputs": [],
   "source": [
    "class SVM:\n",
    "    def __init__(self,C=1.0):\n",
    "        self.C = C\n",
    "        self.W = 0\n",
    "        self.b = 0\n",
    "        \n",
    "    def hingeLoss(self,W,b,X,Y):\n",
    "        loss  = 0.0\n",
    "        \n",
    "        loss += .5*np.dot(W,W.T)\n",
    "        \n",
    "        m = X.shape[0]\n",
    "        \n",
    "        for i in range(m):\n",
    "            ti = Y[i]*(np.dot(W,X[i].T)+b)\n",
    "            loss += self.C *max(0,(1-ti))\n",
    "            \n",
    "        return loss[0][0]\n",
    "    \n",
    "    def fit(self,X,Y,batch_size=50,learning_rate=0.001,maxItr=500):\n",
    "        \n",
    "        no_of_features = X.shape[1]\n",
    "        no_of_samples = X.shape[0]\n",
    "        \n",
    "        n = learning_rate\n",
    "        c = self.C\n",
    "        \n",
    "        #Init the model parameters\n",
    "        W = np.zeros((1,no_of_features))\n",
    "        bias = 0\n",
    "        \n",
    "        #Initial Loss\n",
    "        \n",
    "        #Training from here...\n",
    "        # Weight and Bias update rule that we discussed!\n",
    "        losses = []\n",
    "        \n",
    "        for i in range(maxItr):\n",
    "            #Training Loop\n",
    "            \n",
    "            l = self.hingeLoss(W,bias,X,Y)\n",
    "            losses.append(l)\n",
    "            ids = np.arange(no_of_samples)\n",
    "            np.random.shuffle(ids)\n",
    "            \n",
    "            #Batch Gradient Descent(Paper) with random shuffling\n",
    "            for batch_start in range(0,no_of_samples,batch_size):\n",
    "                #Assume 0 gradient for the batch\n",
    "                gradw = 0\n",
    "                gradb = 0\n",
    "                \n",
    "                #Iterate over all examples in the mini batch\n",
    "                for j in range(batch_start,batch_start+batch_size):\n",
    "                    if j<no_of_samples:\n",
    "                        i = ids[j]\n",
    "                        ti =  Y[i]*(np.dot(W,X[i].T)+bias)\n",
    "                        \n",
    "                        if ti>1:\n",
    "                            gradw += 0\n",
    "                            gradb += 0\n",
    "                        else:\n",
    "                            gradw += c*Y[i]*X[i]\n",
    "                            gradb += c*Y[i]\n",
    "                            \n",
    "                #Gradient for the batch is ready! Update W,B\n",
    "                W = W - n*W + n*gradw\n",
    "                bias = bias + n*gradb\n",
    "                \n",
    "        \n",
    "        self.W = W\n",
    "        self.b = bias\n",
    "        return W,bias,losses"
   ]
  },
  {
   "cell_type": "code",
   "execution_count": null,
   "metadata": {},
   "outputs": [],
   "source": []
  },
  {
   "cell_type": "code",
   "execution_count": 11,
   "metadata": {},
   "outputs": [
    {
     "name": "stdout",
     "output_type": "stream",
     "text": [
      "(304, 3072)\n",
      "(304,)\n"
     ]
    }
   ],
   "source": [
    "M = image_data.shape[0] \n",
    "image_data = image_data.reshape(M,-1)\n",
    "print(image_data.shape)\n",
    "print(labels.shape)"
   ]
  },
  {
   "cell_type": "code",
   "execution_count": 12,
   "metadata": {},
   "outputs": [
    {
     "name": "stdout",
     "output_type": "stream",
     "text": [
      "3\n"
     ]
    }
   ],
   "source": [
    "CLASSES = len(np.unique(labels))\n",
    "print(CLASSES)"
   ]
  },
  {
   "cell_type": "code",
   "execution_count": 13,
   "metadata": {},
   "outputs": [],
   "source": [
    "def classWiseData(x,y):\n",
    "    data = {}\n",
    "    \n",
    "    for i in range(CLASSES):\n",
    "        data[i] = []\n",
    "        \n",
    "    for i in range(x.shape[0]):\n",
    "        data[y[i]].append(x[i])\n",
    "    \n",
    "    for k in data.keys():\n",
    "        data[k] = np.array(data[k])\n",
    "        \n",
    "    return data"
   ]
  },
  {
   "cell_type": "code",
   "execution_count": 14,
   "metadata": {},
   "outputs": [
    {
     "name": "stdout",
     "output_type": "stream",
     "text": [
      "(101, 3072)\n",
      "101\n",
      "101\n",
      "102\n"
     ]
    }
   ],
   "source": [
    "data = classWiseData(image_data,labels)\n",
    "print(data[1].shape)\n",
    "print(data[0].shape[0])\n",
    "print(data[1].shape[0])\n",
    "print(data[2].shape[0])"
   ]
  },
  {
   "cell_type": "code",
   "execution_count": 15,
   "metadata": {},
   "outputs": [],
   "source": [
    "def getDataPairForSVM(d1,d2):\n",
    "    \"\"\"Combines Data of two classes into a signle matrix\"\"\"\n",
    "    \n",
    "    l1,l2 = d1.shape[0],d2.shape[0]\n",
    "    \n",
    "    samples = l1+l2\n",
    "    features = d1.shape[1]\n",
    "    \n",
    "    data_pair = np.zeros((samples,features))\n",
    "    data_labels = np.zeros((samples,))\n",
    "    \n",
    "    data_pair[:l1,:] = d1\n",
    "    data_pair[l1:,:] = d2\n",
    "    \n",
    "    data_labels[:l1] = -1\n",
    "    data_labels[l1:] = +1\n",
    "    \n",
    "    return data_pair,data_labels"
   ]
  },
  {
   "cell_type": "code",
   "execution_count": 16,
   "metadata": {},
   "outputs": [
    {
     "data": {
      "text/plain": [
       "[<matplotlib.lines.Line2D at 0x7f59a6632ba8>]"
      ]
     },
     "execution_count": 16,
     "metadata": {},
     "output_type": "execute_result"
    },
    {
     "data": {
      "image/png": "[encoded data removed]",
      "text/plain": [
       "<Figure size 432x288 with 1 Axes>"
      ]
     },
     "metadata": {
      "needs_background": "light"
     },
     "output_type": "display_data"
    }
   ],
   "source": [
    "mySVM  = SVM()\n",
    "xp, yp  = getDataPairForSVM(data[0],data[1])\n",
    "w,b,loss  = mySVM.fit(xp,yp,learning_rate=0.00001,maxItr=1000)\n",
    "#print(loss)\n",
    "plt.plot(loss)"
   ]
  },
  {
   "cell_type": "code",
   "execution_count": 17,
   "metadata": {},
   "outputs": [],
   "source": [
    "def trainSVMs(x,y):\n",
    "    \n",
    "    svm_classifiers = {}\n",
    "    for i in range(CLASSES):\n",
    "        svm_classifiers[i] = {}\n",
    "        for j in range(i+1,CLASSES):\n",
    "            xpair,ypair = getDataPairForSVM(data[i],data[j])\n",
    "            wts,b,loss = mySVM.fit(xpair,ypair,learning_rate=0.00001,maxItr=1000)\n",
    "            svm_classifiers[i][j] = (wts,b)\n",
    "            \n",
    "            plt.plot(loss)\n",
    "            plt.show()\n",
    "            \n",
    "    \n",
    "    return svm_classifiers"
   ]
  },
  {
   "cell_type": "code",
   "execution_count": 18,
   "metadata": {},
   "outputs": [
    {
     "data": {
      "image/png": "[encoded data removed]",
      "text/plain": [
       "<Figure size 432x288 with 1 Axes>"
      ]
     },
     "metadata": {
      "needs_background": "light"
     },
     "output_type": "display_data"
    },
    {
     "data": {
      "image/png": "[encoded data removed]",
      "text/plain": [
       "<Figure size 432x288 with 1 Axes>"
      ]
     },
     "metadata": {
      "needs_background": "light"
     },
     "output_type": "display_data"
    },
    {
     "data": {
      "image/png": "[encoded data removed]",
      "text/plain": [
       "<Figure size 432x288 with 1 Axes>"
      ]
     },
     "metadata": {
      "needs_background": "light"
     },
     "output_type": "display_data"
    }
   ],
   "source": [
    "svm_classifiers = trainSVMs(image_data,labels)"
   ]
  },
  {
   "cell_type": "markdown",
   "metadata": {},
   "source": [
    "# prediction"
   ]
  },
  {
   "cell_type": "code",
   "execution_count": 19,
   "metadata": {},
   "outputs": [],
   "source": [
    "def binaryPredict(x,w,b):\n",
    "    z  = np.dot(x,w.T) + b\n",
    "    if z>=0:\n",
    "        return 1\n",
    "    else:\n",
    "        return -1"
   ]
  },
  {
   "cell_type": "code",
   "execution_count": 20,
   "metadata": {},
   "outputs": [],
   "source": [
    "def predict(x):\n",
    "    \n",
    "    count = np.zeros((CLASSES,))\n",
    "    \n",
    "    for i in range(CLASSES):\n",
    "        for j in range(i+1,CLASSES):\n",
    "            w,b = svm_classifiers[i][j]\n",
    "            #Take a majority prediction \n",
    "            z = binaryPredict(x,w,b)\n",
    "            \n",
    "            if(z==1):\n",
    "                count[j] += 1\n",
    "            else:\n",
    "                count[i] += 1\n",
    "    \n",
    "    final_prediction = np.argmax(count)\n",
    "    #print(count)\n",
    "    return final_prediction"
   ]
  },
  {
   "cell_type": "code",
   "execution_count": 21,
   "metadata": {},
   "outputs": [
    {
     "name": "stdout",
     "output_type": "stream",
     "text": [
      "1\n",
      "1\n"
     ]
    }
   ],
   "source": [
    "print(predict(image_data[0]))\n",
    "print(labels[0])"
   ]
  },
  {
   "cell_type": "code",
   "execution_count": 22,
   "metadata": {},
   "outputs": [],
   "source": [
    "def accuracy(x,y):\n",
    "    \n",
    "    count = 0\n",
    "    for i in range(x.shape[0]):\n",
    "        prediction = predict(x[i])\n",
    "        if(prediction==y[i]):\n",
    "            count += 1\n",
    "            \n",
    "    return count/x.shape[0]"
   ]
  },
  {
   "cell_type": "code",
   "execution_count": 23,
   "metadata": {},
   "outputs": [
    {
     "data": {
      "text/plain": [
       "0.6282894736842105"
      ]
     },
     "execution_count": 23,
     "metadata": {},
     "output_type": "execute_result"
    }
   ],
   "source": [
    "accuracy(image_data,labels)"
   ]
  },
  {
   "cell_type": "markdown",
   "metadata": {},
   "source": [
    "# Testing Phase"
   ]
  },
  {
   "cell_type": "code",
   "execution_count": 24,
   "metadata": {},
   "outputs": [],
   "source": [
    "xtest=pd.read_csv(\"./Test/test.csv\").values\n",
    "idd=pd.read_csv(\"./Test/test.csv\").values"
   ]
  },
  {
   "cell_type": "code",
   "execution_count": 25,
   "metadata": {},
   "outputs": [
    {
     "name": "stdout",
     "output_type": "stream",
     "text": [
      "(123, 1)\n",
      "(123, 1)\n"
     ]
    }
   ],
   "source": [
    "print(xtest.shape)\n",
    "print(idd.shape)"
   ]
  },
  {
   "cell_type": "code",
   "execution_count": 72,
   "metadata": {},
   "outputs": [],
   "source": [
    "p = Path(\"./Test/Images/\")\n",
    "\n",
    "dirs = p.glob(\"*\")\n",
    "#labels_dict = {\"Pikachu\":0,\"Bulbasaur\":1,\"Charmander\":2}\n",
    "\n",
    "image_data = []\n",
    "#labels = []\n",
    "\n",
    "for folder_dir in dirs:\n",
    "   \n",
    "    img = image.load_img(folder_dir,target_size=(32,32))\n",
    "    img_array = image.img_to_array(img)\n",
    "    image_data.append(img_array)\n"
   ]
  },
  {
   "cell_type": "code",
   "execution_count": 73,
   "metadata": {},
   "outputs": [
    {
     "name": "stdout",
     "output_type": "stream",
     "text": [
      "123\n"
     ]
    }
   ],
   "source": [
    "print(len(image_data))\n",
    "#print(image_data)"
   ]
  },
  {
   "cell_type": "code",
   "execution_count": 74,
   "metadata": {},
   "outputs": [
    {
     "name": "stdout",
     "output_type": "stream",
     "text": [
      "(123, 32, 32, 3)\n"
     ]
    }
   ],
   "source": [
    "image_data = np.array(image_data,dtype='float32')/255.0\n",
    "print(image_data.shape)"
   ]
  },
  {
   "cell_type": "code",
   "execution_count": 75,
   "metadata": {},
   "outputs": [
    {
     "name": "stdout",
     "output_type": "stream",
     "text": [
      "(123, 3072)\n"
     ]
    }
   ],
   "source": [
    "M = image_data.shape[0] \n",
    "image_data = image_data.reshape(M,-1)\n",
    "print(image_data.shape)"
   ]
  },
  {
   "cell_type": "code",
   "execution_count": 76,
   "metadata": {},
   "outputs": [],
   "source": [
    "#ImageId,NameOfPokemon"
   ]
  },
  {
   "cell_type": "code",
   "execution_count": 77,
   "metadata": {},
   "outputs": [
    {
     "name": "stdout",
     "output_type": "stream",
     "text": [
      "[1, 1, 0, 1, 2, 1, 1, 0, 0, 0, 0, 1, 2, 0, 0, 0, 0, 0, 1, 1, 1, 1, 1, 2, 2, 1, 1, 0, 1, 1, 0, 1, 1, 1, 1, 2, 0, 1, 2, 0, 2, 1, 2, 1, 1, 1, 1, 2, 1, 1, 0, 2, 0, 0, 2, 1, 0, 0, 1, 2, 0, 2, 2, 0, 2, 2, 1, 2, 2, 0, 1, 2, 2, 1, 1, 1, 2, 2, 1, 0, 1, 0, 1, 2, 1, 2, 0, 0, 2, 0, 0, 2, 1, 2, 0, 1, 1, 2, 0, 0, 0, 0, 0, 2, 2, 1, 0, 1, 2, 2, 0, 1, 1, 0, 0, 2, 2, 2, 0, 0, 2, 1, 1]\n"
     ]
    }
   ],
   "source": [
    "m=xtest.shape[0]\n",
    "result=[]\n",
    "for i in range(m):\n",
    "    result.append(predict(image_data[i]))\n",
    "print(result)"
   ]
  },
  {
   "cell_type": "code",
   "execution_count": 78,
   "metadata": {},
   "outputs": [],
   "source": [
    "labels_dict = {0:\"Pikachu\",1:\"Bulbasaur\",2:\"Charmender\"}"
   ]
  },
  {
   "cell_type": "code",
   "execution_count": 83,
   "metadata": {},
   "outputs": [
    {
     "name": "stdout",
     "output_type": "stream",
     "text": [
      "(123,)\n",
      "<class 'list'>\n"
     ]
    }
   ],
   "source": [
    "lab=[]\n",
    "for i in range(m):\n",
    "    lab.append(labels_dict[result[i]])\n",
    "idd=idd.reshape((-1,))\n",
    "print(idd.shape)\n",
    "print(type(lab))"
   ]
  },
  {
   "cell_type": "code",
   "execution_count": 84,
   "metadata": {},
   "outputs": [],
   "source": [
    "#df[idd[i]]=labels_dict[result[i]]\n",
    "ans={}\n",
    "\n",
    "ans[\"ImageId\"]=idd\n",
    "ans[\"NameOfPokemon\"]=lab\n",
    "df = pd.DataFrame(ans,columns=[\"ImageId\", \"NameOfPokemon\"])"
   ]
  },
  {
   "cell_type": "code",
   "execution_count": 85,
   "metadata": {},
   "outputs": [
    {
     "name": "stdout",
     "output_type": "stream",
     "text": [
      "2\n",
      "{'ImageId': array(['1106.jpg', '2236.jpg', '1131.jpg', '2221.jpg', '2011.jpg',\n",
      "       '2030.jpg', '2035.jpg', '1110.jpg', '1104.jpg', '2217.jpg',\n",
      "       '1111.jpg', '1100.jpg', '1112.jpg', '1138.jpg', '2238.jpg',\n",
      "       '2009.jpg', '2225.jpg', '2240.jpg', '2020.jpg', '2209.jpg',\n",
      "       '2029.jpg', '1114.jpg', '2201.jpg', '1118.jpg', '2025.jpg',\n",
      "       '2202.jpg', '1117.jpg', '1119.jpg', '2000.jpg', '2007.jpg',\n",
      "       '2039.jpg', '2017.jpg', '2215.jpg', '1120.jpg', '2006.jpg',\n",
      "       '1116.jpg', '1128.jpg', '1125.jpg', '2203.jpg', '1133.jpg',\n",
      "       '1137.jpg', '2220.jpg', '2012.jpg', '2224.jpg', '2206.jpg',\n",
      "       '1122.jpg', '2223.jpg', '1102.jpg', '2234.jpg', '2216.jpg',\n",
      "       '2016.jpg', '2227.jpg', '2013.jpg', '1113.jpg', '2204.jpg',\n",
      "       '1101.jpg', '2208.jpg', '2024.jpg', '2031.jpg', '2222.jpg',\n",
      "       '2211.jpg', '2033.jpg', '2213.jpg', '2231.jpg', '2001.jpg',\n",
      "       '2040.jpg', '1127.jpg', '2023.jpg', '2015.jpg', '1121.jpg',\n",
      "       '2232.jpg', '1139.jpg', '1103.jpg', '2018.jpg', '2233.jpg',\n",
      "       '2212.jpg', '2210.jpg', '2228.jpg', '2026.jpg', '1132.jpg',\n",
      "       '2003.jpg', '1129.jpg', '2214.jpg', '1123.jpg', '2004.jpg',\n",
      "       '1136.jpg', '1140.jpg', '2226.jpg', '2230.jpg', '1135.jpg',\n",
      "       '1105.jpg', '2237.jpg', '1109.jpg', '2022.jpg', '2005.jpg',\n",
      "       '2218.jpg', '2036.jpg', '1115.jpg', '2032.jpg', '2200.jpg',\n",
      "       '1134.jpg', '1130.jpg', '1107.jpg', '2034.jpg', '2205.jpg',\n",
      "       '2008.jpg', '2027.jpg', '2028.jpg', '2239.jpg', '1108.jpg',\n",
      "       '2010.jpg', '2229.jpg', '2219.jpg', '2019.jpg', '2207.jpg',\n",
      "       '2002.jpg', '2037.jpg', '2038.jpg', '1124.jpg', '2014.jpg',\n",
      "       '2235.jpg', '1126.jpg', '2021.jpg'], dtype=object), 'NameOfPokemon': ['Bulbasaur', 'Bulbasaur', 'Pikachu', 'Bulbasaur', 'Charmender', 'Bulbasaur', 'Bulbasaur', 'Pikachu', 'Pikachu', 'Pikachu', 'Pikachu', 'Bulbasaur', 'Charmender', 'Pikachu', 'Pikachu', 'Pikachu', 'Pikachu', 'Pikachu', 'Bulbasaur', 'Bulbasaur', 'Bulbasaur', 'Bulbasaur', 'Bulbasaur', 'Charmender', 'Charmender', 'Bulbasaur', 'Bulbasaur', 'Pikachu', 'Bulbasaur', 'Bulbasaur', 'Pikachu', 'Bulbasaur', 'Bulbasaur', 'Bulbasaur', 'Bulbasaur', 'Charmender', 'Pikachu', 'Bulbasaur', 'Charmender', 'Pikachu', 'Charmender', 'Bulbasaur', 'Charmender', 'Bulbasaur', 'Bulbasaur', 'Bulbasaur', 'Bulbasaur', 'Charmender', 'Bulbasaur', 'Bulbasaur', 'Pikachu', 'Charmender', 'Pikachu', 'Pikachu', 'Charmender', 'Bulbasaur', 'Pikachu', 'Pikachu', 'Bulbasaur', 'Charmender', 'Pikachu', 'Charmender', 'Charmender', 'Pikachu', 'Charmender', 'Charmender', 'Bulbasaur', 'Charmender', 'Charmender', 'Pikachu', 'Bulbasaur', 'Charmender', 'Charmender', 'Bulbasaur', 'Bulbasaur', 'Bulbasaur', 'Charmender', 'Charmender', 'Bulbasaur', 'Pikachu', 'Bulbasaur', 'Pikachu', 'Bulbasaur', 'Charmender', 'Bulbasaur', 'Charmender', 'Pikachu', 'Pikachu', 'Charmender', 'Pikachu', 'Pikachu', 'Charmender', 'Bulbasaur', 'Charmender', 'Pikachu', 'Bulbasaur', 'Bulbasaur', 'Charmender', 'Pikachu', 'Pikachu', 'Pikachu', 'Pikachu', 'Pikachu', 'Charmender', 'Charmender', 'Bulbasaur', 'Pikachu', 'Bulbasaur', 'Charmender', 'Charmender', 'Pikachu', 'Bulbasaur', 'Bulbasaur', 'Pikachu', 'Pikachu', 'Charmender', 'Charmender', 'Charmender', 'Pikachu', 'Pikachu', 'Charmender', 'Bulbasaur', 'Bulbasaur']}\n"
     ]
    }
   ],
   "source": [
    "print(len(ans))\n",
    "print(ans)"
   ]
  },
  {
   "cell_type": "code",
   "execution_count": 86,
   "metadata": {},
   "outputs": [],
   "source": [
    "df.to_csv(\"./Test/Sample_submission.csv\", index=False)"
   ]
  },
  {
   "cell_type": "code",
   "execution_count": null,
   "metadata": {},
   "outputs": [],
   "source": []
  },
  {
   "cell_type": "code",
   "execution_count": null,
   "metadata": {},
   "outputs": [],
   "source": []
  },
  {
   "cell_type": "code",
   "execution_count": null,
   "metadata": {},
   "outputs": [],
   "source": []
  }
 ],
 "metadata": {
  "kernelspec": {
   "display_name": "Python 3",
   "language": "python",
   "name": "python3"
  },
  "language_info": {
   "codemirror_mode": {
    "name": "ipython",
    "version": 3
   },
   "file_extension": ".py",
   "mimetype": "text/x-python",
   "name": "python",
   "nbconvert_exporter": "python",
   "pygments_lexer": "ipython3",
   "version": "3.7.0"
  }
 },
 "nbformat": 4,
 "nbformat_minor": 2
}
